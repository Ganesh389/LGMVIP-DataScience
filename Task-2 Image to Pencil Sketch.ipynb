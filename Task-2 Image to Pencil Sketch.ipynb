{
 "cells": [
  {
   "cell_type": "code",
   "execution_count": null,
   "id": "24f5014a",
   "metadata": {},
   "outputs": [],
   "source": [
    "pip install opencv-python"
   ]
  },
  {
   "cell_type": "code",
   "execution_count": null,
   "id": "10171372",
   "metadata": {},
   "outputs": [],
   "source": [
    "import cv2\n",
    "import numpy as np\n",
    "import plotly.express as px"
   ]
  },
  {
   "cell_type": "code",
   "execution_count": null,
   "id": "b667de84",
   "metadata": {},
   "outputs": [],
   "source": [
    "img = cv2.imread(r\"C:/Users/javadi ganesh/OneDrive/Desktop/LGM Internship/image.jpg\")\n",
    "img = cv2.cvtColor(img,cv2.COLOR_BGR2RGB)\n",
    "imgs=px.imshow(img)\n",
    "imgs.update_xaxes(showticklabels=False).update_yaxes(showticklabels=False)\n",
    "imgs.show()"
   ]
  },
  {
   "cell_type": "code",
   "execution_count": null,
   "id": "67991a3c",
   "metadata": {},
   "outputs": [],
   "source": [
    "scale_percent = 0.60\n",
    "width = int(img.shape[1]*scale_percent)\n",
    "height = int(img.shape[0]*scale_percent)\n",
    "dim = (width,height)\n",
    "resized = cv2.resize(img,dim,interpolation = cv2.INTER_AREA)\n",
    "res=px.imshow(resized)\n",
    "res.update_xaxes(showticklabels=False).update_yaxes(showticklabels=False)\n",
    "res.show()"
   ]
  },
  {
   "cell_type": "code",
   "execution_count": null,
   "id": "a6e918ce",
   "metadata": {},
   "outputs": [],
   "source": [
    "kernel_sharpening = np.array([[-1,-1,-1], \n",
    "                              [-1, 9,-1],\n",
    "                              [-1,-1,-1]])\n",
    "sharpened = cv2.filter2D(resized,-1,kernel_sharpening)\n",
    "sharp=px.imshow(sharpened)\n",
    "sharp.update_xaxes(showticklabels=False).update_yaxes(showticklabels=False)\n",
    "sharp.show()"
   ]
  },
  {
   "cell_type": "code",
   "execution_count": null,
   "id": "a7873fe3",
   "metadata": {},
   "outputs": [],
   "source": [
    "grayscale = cv2.cvtColor(sharpened , cv2.COLOR_BGR2GRAY)\n",
    "gray = px.imshow(grayscale, color_continuous_scale='gray')\n",
    "gray.update_xaxes(showticklabels=False).update_yaxes(showticklabels=False)\n",
    "gray.show()"
   ]
  },
  {
   "cell_type": "code",
   "execution_count": null,
   "id": "154dbd97",
   "metadata": {},
   "outputs": [],
   "source": [
    "invs = 255-grayscale\n",
    "inv=px.imshow(invs,color_continuous_scale='gray')\n",
    "inv.update_xaxes(showticklabels=False).update_yaxes(showticklabels=False)\n",
    "inv.show()"
   ]
  },
  {
   "cell_type": "code",
   "execution_count": null,
   "id": "285e3893",
   "metadata": {},
   "outputs": [],
   "source": [
    "gauss = cv2.GaussianBlur(invs,ksize=(15,15),sigmaX=0,sigmaY=0)\n",
    "gaus=px.imshow(gauss,color_continuous_scale='gray')\n",
    "gaus.update_xaxes(showticklabels=False).update_yaxes(showticklabels=False)\n",
    "gaus.show()"
   ]
  },
  {
   "cell_type": "code",
   "execution_count": null,
   "id": "081cd573",
   "metadata": {},
   "outputs": [],
   "source": [
    "def dodgeV2(image,mask):\n",
    "    return cv2.divide(image,255-mask,scale=256)\n",
    "\n",
    "pencil_img = dodgeV2(grayscale,gauss)\n",
    "sketch=px.imshow(pencil_img,color_continuous_scale='gray')\n",
    "sketch.update_layout(coloraxis_showscale=False)\n",
    "sketch.update_xaxes(showticklabels=False).update_yaxes(showticklabels=False)\n",
    "sketch.show()"
   ]
  },
  {
   "cell_type": "code",
   "execution_count": null,
   "id": "190605ce",
   "metadata": {},
   "outputs": [],
   "source": []
  }
 ],
 "metadata": {
  "kernelspec": {
   "display_name": "Python 3 (ipykernel)",
   "language": "python",
   "name": "python3"
  },
  "language_info": {
   "codemirror_mode": {
    "name": "ipython",
    "version": 3
   },
   "file_extension": ".py",
   "mimetype": "text/x-python",
   "name": "python",
   "nbconvert_exporter": "python",
   "pygments_lexer": "ipython3",
   "version": "3.10.9"
  }
 },
 "nbformat": 4,
 "nbformat_minor": 5
}
